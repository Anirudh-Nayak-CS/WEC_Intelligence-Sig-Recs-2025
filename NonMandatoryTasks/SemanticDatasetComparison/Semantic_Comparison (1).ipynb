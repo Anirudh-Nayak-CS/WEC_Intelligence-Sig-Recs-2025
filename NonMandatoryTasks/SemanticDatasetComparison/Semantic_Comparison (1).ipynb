{
 "cells": [
  {
   "cell_type": "code",
   "execution_count": null,
   "metadata": {
    "_cell_guid": "b1076dfc-b9ad-4769-8c92-a6c4dae69d19",
    "_uuid": "8f2839f25d086af736a60e9eeb907d3b93b6e0e5",
    "id": "ForV_NP5_2Yc"
   },
   "outputs": [],
   "source": [
    "## research paper used  -> https://arxiv.org/pdf/2103.00020 ,https://arxiv.org/html/2406.03865v1 (used this to get an idea of semantic similarity)\n"
   ]
  },
  {
   "cell_type": "markdown",
   "metadata": {
    "id": "wbA30ecX_2Ye"
   },
   "source": [
    "## CLIP"
   ]
  },
  {
   "cell_type": "code",
   "execution_count": 40,
   "metadata": {
    "colab": {
     "base_uri": "https://localhost:8080/"
    },
    "id": "GZPf9D-E_2Yf",
    "outputId": "251e41d9-604c-4b3e-c35f-737ce2d484e0"
   },
   "outputs": [
    {
     "data": {
      "text/plain": [
       "CLIPModel(\n",
       "  (text_model): CLIPTextTransformer(\n",
       "    (embeddings): CLIPTextEmbeddings(\n",
       "      (token_embedding): Embedding(49408, 512)\n",
       "      (position_embedding): Embedding(77, 512)\n",
       "    )\n",
       "    (encoder): CLIPEncoder(\n",
       "      (layers): ModuleList(\n",
       "        (0-11): 12 x CLIPEncoderLayer(\n",
       "          (self_attn): CLIPAttention(\n",
       "            (k_proj): Linear(in_features=512, out_features=512, bias=True)\n",
       "            (v_proj): Linear(in_features=512, out_features=512, bias=True)\n",
       "            (q_proj): Linear(in_features=512, out_features=512, bias=True)\n",
       "            (out_proj): Linear(in_features=512, out_features=512, bias=True)\n",
       "          )\n",
       "          (layer_norm1): LayerNorm((512,), eps=1e-05, elementwise_affine=True)\n",
       "          (mlp): CLIPMLP(\n",
       "            (activation_fn): QuickGELUActivation()\n",
       "            (fc1): Linear(in_features=512, out_features=2048, bias=True)\n",
       "            (fc2): Linear(in_features=2048, out_features=512, bias=True)\n",
       "          )\n",
       "          (layer_norm2): LayerNorm((512,), eps=1e-05, elementwise_affine=True)\n",
       "        )\n",
       "      )\n",
       "    )\n",
       "    (final_layer_norm): LayerNorm((512,), eps=1e-05, elementwise_affine=True)\n",
       "  )\n",
       "  (vision_model): CLIPVisionTransformer(\n",
       "    (embeddings): CLIPVisionEmbeddings(\n",
       "      (patch_embedding): Conv2d(3, 768, kernel_size=(32, 32), stride=(32, 32), bias=False)\n",
       "      (position_embedding): Embedding(50, 768)\n",
       "    )\n",
       "    (pre_layrnorm): LayerNorm((768,), eps=1e-05, elementwise_affine=True)\n",
       "    (encoder): CLIPEncoder(\n",
       "      (layers): ModuleList(\n",
       "        (0-11): 12 x CLIPEncoderLayer(\n",
       "          (self_attn): CLIPAttention(\n",
       "            (k_proj): Linear(in_features=768, out_features=768, bias=True)\n",
       "            (v_proj): Linear(in_features=768, out_features=768, bias=True)\n",
       "            (q_proj): Linear(in_features=768, out_features=768, bias=True)\n",
       "            (out_proj): Linear(in_features=768, out_features=768, bias=True)\n",
       "          )\n",
       "          (layer_norm1): LayerNorm((768,), eps=1e-05, elementwise_affine=True)\n",
       "          (mlp): CLIPMLP(\n",
       "            (activation_fn): QuickGELUActivation()\n",
       "            (fc1): Linear(in_features=768, out_features=3072, bias=True)\n",
       "            (fc2): Linear(in_features=3072, out_features=768, bias=True)\n",
       "          )\n",
       "          (layer_norm2): LayerNorm((768,), eps=1e-05, elementwise_affine=True)\n",
       "        )\n",
       "      )\n",
       "    )\n",
       "    (post_layernorm): LayerNorm((768,), eps=1e-05, elementwise_affine=True)\n",
       "  )\n",
       "  (visual_projection): Linear(in_features=768, out_features=512, bias=False)\n",
       "  (text_projection): Linear(in_features=512, out_features=512, bias=False)\n",
       ")"
      ]
     },
     "execution_count": 40,
     "metadata": {},
     "output_type": "execute_result"
    }
   ],
   "source": [
    "import requests\n",
    "import torch\n",
    "import torchvision\n",
    "from torchvision  import datasets,transforms\n",
    "from torchvision.transforms import ToTensor\n",
    "from PIL import Image\n",
    "from transformers import CLIPProcessor, CLIPModel\n",
    "\n",
    "model = CLIPModel.from_pretrained(\"openai/clip-vit-base-patch32\", dtype=torch.bfloat16, attn_implementation=\"sdpa\")\n",
    "processor =CLIPProcessor.from_pretrained(\"openai/clip-vit-base-patch32\",use_fast=True)\n",
    "device = \"cuda\" if torch.cuda.is_available() else \"cpu\"\n",
    "model.to(device)"
   ]
  },
  {
   "cell_type": "code",
   "execution_count": 41,
   "metadata": {
    "id": "13wpaQ4eBYOO"
   },
   "outputs": [],
   "source": [
    "import matplotlib.pyplot as plt"
   ]
  },
  {
   "cell_type": "markdown",
   "metadata": {
    "id": "dIVsFyTuHUX2"
   },
   "source": [
    "## Exp 1 (CIFAR SET)"
   ]
  },
  {
   "cell_type": "code",
   "execution_count": 42,
   "metadata": {
    "id": "QE8o2kpW_2Yf"
   },
   "outputs": [],
   "source": [
    "\n",
    "train_dataset=torchvision.datasets.CIFAR10('data',train=True,download=True,target_transform=None,transform=None)\n"
   ]
  },
  {
   "cell_type": "code",
   "execution_count": 43,
   "metadata": {
    "colab": {
     "base_uri": "https://localhost:8080/"
    },
    "id": "IxbX-LIe_7Y9",
    "outputId": "c5cf9de6-dfdb-4cbf-ddad-bf976f28156a"
   },
   "outputs": [
    {
     "data": {
      "text/plain": [
       "50000"
      ]
     },
     "execution_count": 43,
     "metadata": {},
     "output_type": "execute_result"
    }
   ],
   "source": [
    "len(train_dataset)"
   ]
  },
  {
   "cell_type": "code",
   "execution_count": 44,
   "metadata": {
    "colab": {
     "base_uri": "https://localhost:8080/"
    },
    "id": "0QxBYMm5AyRb",
    "outputId": "6631131a-2472-40e5-b8ff-e199c56ae52c"
   },
   "outputs": [
    {
     "data": {
      "text/plain": [
       "['airplane',\n",
       " 'automobile',\n",
       " 'bird',\n",
       " 'cat',\n",
       " 'deer',\n",
       " 'dog',\n",
       " 'frog',\n",
       " 'horse',\n",
       " 'ship',\n",
       " 'truck']"
      ]
     },
     "execution_count": 44,
     "metadata": {},
     "output_type": "execute_result"
    }
   ],
   "source": [
    "classes=train_dataset.classes\n",
    "classes"
   ]
  },
  {
   "cell_type": "code",
   "execution_count": 45,
   "metadata": {
    "colab": {
     "base_uri": "https://localhost:8080/"
    },
    "id": "SbCQfeWEBHFW",
    "outputId": "a7a9dbb6-def5-4e24-cf12-79721a466b4d"
   },
   "outputs": [
    {
     "data": {
      "text/plain": [
       "{'airplane': 0,\n",
       " 'automobile': 1,\n",
       " 'bird': 2,\n",
       " 'cat': 3,\n",
       " 'deer': 4,\n",
       " 'dog': 5,\n",
       " 'frog': 6,\n",
       " 'horse': 7,\n",
       " 'ship': 8,\n",
       " 'truck': 9}"
      ]
     },
     "execution_count": 45,
     "metadata": {},
     "output_type": "execute_result"
    }
   ],
   "source": [
    "train_dataset.class_to_idx"
   ]
  },
  {
   "cell_type": "code",
   "execution_count": 46,
   "metadata": {
    "id": "vvafUDjQAz0c"
   },
   "outputs": [],
   "source": [
    "img,label_idx=train_dataset[2]\n",
    "label=classes[label_idx]\n"
   ]
  },
  {
   "cell_type": "code",
   "execution_count": 47,
   "metadata": {
    "colab": {
     "base_uri": "https://localhost:8080/",
     "height": 470
    },
    "id": "5nWh5AvYBMMa",
    "outputId": "02a84bf6-b307-4fc6-bb69-018305319afd"
   },
   "outputs": [
    {
     "data": {
      "text/plain": [
       "<matplotlib.image.AxesImage at 0x7c2cc336f6e0>"
      ]
     },
     "execution_count": 47,
     "metadata": {},
     "output_type": "execute_result"
    },
    {
     "data": {
      "image/png": "[encoded data removed]",
      "text/plain": [
       "<Figure size 640x480 with 1 Axes>"
      ]
     },
     "metadata": {},
     "output_type": "display_data"
    }
   ],
   "source": [
    "plt.title(label)\n",
    "plt.imshow(img)"
   ]
  },
  {
   "cell_type": "code",
   "execution_count": 48,
   "metadata": {
    "id": "1S7Nw9atBcRv"
   },
   "outputs": [],
   "source": [
    "text_prompt = [f\"a photo of a {label}\" for label in classes]\n",
    "inputs = processor(\n",
    "    text=text_prompt,\n",
    "    images=[img],\n",
    "    return_tensors=\"pt\",\n",
    "    padding=True\n",
    ")"
   ]
  },
  {
   "cell_type": "markdown",
   "metadata": {
    "id": "xkBQjIR6KHpr"
   },
   "source": [
    "### Similarity score between cat and dog"
   ]
  },
  {
   "cell_type": "code",
   "execution_count": 50,
   "metadata": {
    "id": "0mEEATP3CURm"
   },
   "outputs": [],
   "source": [
    "dataset_a_images=[] # dog\n",
    "dataset_b_images=[] # cat\n",
    "dataset_c_images=[] #truck\n",
    "dataset_d_images=[] #ship\n",
    "\n",
    "for (img,label) in train_dataset:\n",
    "  if label==\"dog\":\n",
    "    dataset_a_images.append(img)\n",
    "  elif label==\"cat\":\n",
    "    dataset_b_images.append(img)\n",
    "  elif label==\"truck\"\n",
    "    dataset_c_images.append(img)\n",
    "  elif label==\"ship\"\n",
    "    dataset_d_images.append(img)\n",
    "\n"
   ]
  },
  {
   "cell_type": "code",
   "execution_count": null,
   "metadata": {
    "id": "enXs-g6mLh2S"
   },
   "outputs": [],
   "source": [
    "from torch.utils import Dataset,Dataloader\n",
    "\n",
    "class ImageDataset(Dataset):\n",
    "  def __init__(self,images):\n",
    "    self.images=images\n",
    "\n",
    "  def __len__(self):\n",
    "    return len(self.images)\n",
    "\n",
    "  def __getitem__(self,idx):\n",
    "    return self.images[idx]\n",
    "\n",
    "dog_dataset=ImageDataset(dataset_a_images)\n",
    "cat_dataset=ImageDataset(dataset_b_images)\n",
    "truck_dataset=ImageDataset(dataset_c_images)\n",
    "ship_dataset=ImageDataset(dataset_d_images)\n",
    "\n",
    "dog_loader = DataLoader(dog_dataset, batch_size=32, shuffle=False)\n",
    "cat_loader = DataLoader(cat_dataset, batch_size=32, shuffle=False)\n",
    "truck_loader = DataLoader(truck_dataset, batch_size=32, shuffle=False)\n",
    "ship_loader = DataLoader(ship_dataset, batch_size=32, shuffle=False)"
   ]
  },
  {
   "cell_type": "code",
   "execution_count": null,
   "metadata": {
    "id": "BxFhKlrYKsux"
   },
   "outputs": [],
   "source": [
    "def extract_embeddings(dataloader,model,processor,device):\n",
    "  all_embeddings=[]\n",
    "  model.eval()\n",
    "\n",
    "  with torch.no_grad():\n",
    "    for images_batch in dataloader:\n",
    "\n",
    "            inputs = processor(\n",
    "                images=images_batch,\n",
    "                return_tensors=\"pt\"\n",
    "            ).to(device)\n",
    "\n",
    "\n",
    "            image_features = model.get_image_features(**inputs)\n",
    "\n",
    "\n",
    "            all_embeddings.append(image_features.cpu())\n",
    "\n",
    "    # Concatenate all batches into one big tensor\n",
    "    # The shape will be [num_images, embedding_dim] (e.g., [5000, 512])\n",
    "    return torch.cat(all_embeddings, dim=0)\n"
   ]
  },
  {
   "cell_type": "code",
   "execution_count": null,
   "metadata": {
    "id": "GCufswTrUrO5"
   },
   "outputs": [],
   "source": [
    "dog_embeddings=extract_embeddings(dog_loader,model,processor,device)\n",
    "cat_embeddings=extract_embeddings(cat_loader,model,processor,device)\n",
    "truck_embeddings=extract_embeddings(cat_loader,model,processor,device)\n",
    "ship_embeddings=extract_embeddings(cat_loader,model,processor,device)"
   ]
  },
  {
   "cell_type": "markdown",
   "metadata": {
    "id": "W35PfTHQU8N8"
   },
   "source": [
    "### Similarity scores  \n"
   ]
  },
  {
   "cell_type": "markdown",
   "metadata": {
    "id": "cQnF-3no7glP"
   },
   "source": [
    "#### CAT VS DOG"
   ]
  },
  {
   "cell_type": "markdown",
   "metadata": {
    "id": "BtOqha5mVMZV"
   },
   "source": [
    "#### Centroid Cosine similarity"
   ]
  },
  {
   "cell_type": "code",
   "execution_count": null,
   "metadata": {
    "id": "1ebxrQt4U6nM"
   },
   "outputs": [],
   "source": [
    "import torch.nn.functional as F\n",
    "\n",
    "dog_mean=torch.mean(dog_embeddings,dim=0)  # shape [512]\n",
    "cat_mean=torch.mean(cat_embeddings,dim=0)  # shape [512]\n",
    "\n",
    "cosine_similarity_score=F.cosine_similarity(    # we unsqueze because 2d vector is exprected so we get  -> [1,512]\n",
    "    dog_mean.unsqueeze(0),\n",
    "    cat_mean.unsqueeze(0),\n",
    ")\n",
    "print(f\"\\nCentroid Cosine Similarity (Dog vs. Cat): {cosine_similarity_score.item():.4f}\")"
   ]
  },
  {
   "cell_type": "markdown",
   "metadata": {
    "id": "_VjRAhU4a-S2"
   },
   "source": [
    "#### Fréchet Embedding Distance"
   ]
  },
  {
   "cell_type": "code",
   "execution_count": null,
   "metadata": {
    "id": "tCaGBQpGbCPr"
   },
   "outputs": [],
   "source": [
    "import numpy as np\n",
    "from scipy.linalg import sqrtm"
   ]
  },
  {
   "cell_type": "code",
   "execution_count": null,
   "metadata": {
    "id": "Hyf-lluy5f97"
   },
   "outputs": [],
   "source": [
    "def calculate_fed(embedding1,embedding2):\n",
    "  mean_1,cov_1=np.mean(embedding1,dim=1),np.cov(embedding1,dim=1)\n",
    "  mean_2,cov_2=np.mean(embedding2,dim=1),np.cov(embedding2,dim=1)\n",
    "\n",
    "  squared_diff_mean=np.sum((mean_1-mean_2)**2)\n",
    "  eps = 1e-6\n",
    "  covmean, _ = sqrtm(cov_1.dot(cov_2) + eps * np.eye(cov_1.shape[0]), disp=False)\n",
    "\n",
    "    # Matrix square root might return complex numbers, take the real part\n",
    "  if np.iscomplexobj(covmean):\n",
    "        covmean = covmean.real\n",
    "\n",
    "  fed=squared_diff_mean+np.trace(cov_1+cov_2-2.0*covmean)\n",
    "  fed=max(0,fed)\n",
    "  return fed"
   ]
  },
  {
   "cell_type": "code",
   "execution_count": null,
   "metadata": {
    "id": "zVpvFu9_6ld-"
   },
   "outputs": [],
   "source": [
    "fed_score = calculate_fed(cat_embeddings, dog_embeddings)\n",
    "print(f\"Fréchet Embedding Distance: {fed_score:.4f}\")"
   ]
  },
  {
   "cell_type": "markdown",
   "metadata": {
    "id": "1lNv6MSs7jMa"
   },
   "source": [
    "#### DOG VS TRUCK"
   ]
  },
  {
   "cell_type": "markdown",
   "metadata": {
    "id": "ZWVKdSqu7mi4"
   },
   "source": [
    "#### Centroid Cosine similarity"
   ]
  },
  {
   "cell_type": "code",
   "execution_count": null,
   "metadata": {
    "id": "jb6F0FR27kkH"
   },
   "outputs": [],
   "source": [
    "import torch.nn.functional as F\n",
    "\n",
    "dog_mean=torch.mean(dog_embeddings,dim=0)  # shape [512]\n",
    "truck_mean=torch.mean(truck_embeddings,dim=0)  # shape [512]\n",
    "\n",
    "cosine_similarity_score=F.cosine_similarity(    # we unsqueze because 2d vector is exprected so we get  -> [1,512]\n",
    "    dog_mean.unsqueeze(0),\n",
    "    truck_mean.unsqueeze(0),\n",
    ")\n",
    "print(f\"\\nCentroid Cosine Similarity (Dog vs. Truck): {cosine_similarity_score.item():.4f}\")"
   ]
  },
  {
   "cell_type": "markdown",
   "metadata": {
    "id": "ewjB1lb77o74"
   },
   "source": [
    "#### Frechet embedding distance"
   ]
  },
  {
   "cell_type": "code",
   "execution_count": null,
   "metadata": {
    "id": "zCicSTyg7rMK"
   },
   "outputs": [],
   "source": [
    "fed_score = calculate_fed(truck_embeddings, dog_embeddings)\n",
    "print(f\"Fréchet Embedding Distance: {fed_score:.4f}\")"
   ]
  },
  {
   "cell_type": "markdown",
   "metadata": {
    "id": "Y773BpjG8HOL"
   },
   "source": [
    "#### TRUCK VS SHIP"
   ]
  },
  {
   "cell_type": "markdown",
   "metadata": {
    "id": "tng8zHo58Jkz"
   },
   "source": [
    "#### Centroid cosine similarity"
   ]
  },
  {
   "cell_type": "code",
   "execution_count": null,
   "metadata": {
    "id": "VaRrmVsR8Ipc"
   },
   "outputs": [],
   "source": [
    "import torch.nn.functional as F\n",
    "\n",
    "ship_mean=torch.mean(ship_embeddings,dim=0)  # shape [512]\n",
    "truck_mean=torch.mean(truck_embeddings,dim=0)  # shape [512]\n",
    "\n",
    "cosine_similarity_score=F.cosine_similarity(    # we unsqueze because 2d vector is exprected so we get  -> [1,512]\n",
    "    ship_mean.unsqueeze(0),\n",
    "    truck_mean.unsqueeze(0),\n",
    ")\n",
    "print(f\"\\nCentroid Cosine Similarity (Ship vs. Truck): {cosine_similarity_score.item():.4f}\")"
   ]
  },
  {
   "cell_type": "markdown",
   "metadata": {
    "id": "H5ER1N2N8L5y"
   },
   "source": [
    "#### Frechet embedding distance"
   ]
  },
  {
   "cell_type": "code",
   "execution_count": null,
   "metadata": {
    "id": "q874ENXI8N4O"
   },
   "outputs": [],
   "source": [
    "fed_score = calculate_fed(truck_embeddings, ship_embeddings)\n",
    "print(f\"Fréchet Embedding Distance: {fed_score:.4f}\")"
   ]
  },
  {
   "cell_type": "markdown",
   "metadata": {
    "id": "0HQ9z5u098BN"
   },
   "source": [
    "## EXP_2 (CIFAKE)"
   ]
  },
  {
   "cell_type": "code",
   "execution_count": null,
   "metadata": {
    "id": "U0KN20a59-RJ"
   },
   "outputs": [],
   "source": [
    "### In kaggle notebook ."
   ]
  }
 ],
 "metadata": {
  "accelerator": "GPU",
  "colab": {
   "gpuType": "T4",
   "name": "Semantic_Comparison",
   "provenance": []
  },
  "kaggle": {
   "accelerator": "none",
   "dataSources": [],
   "dockerImageVersionId": 31153,
   "isGpuEnabled": false,
   "isInternetEnabled": true,
   "language": "python",
   "sourceType": "notebook"
  },
  "kernelspec": {
   "display_name": "Python 3 (ipykernel)",
   "language": "python",
   "name": "python3"
  },
  "language_info": {
   "codemirror_mode": {
    "name": "ipython",
    "version": 3
   },
   "file_extension": ".py",
   "mimetype": "text/x-python",
   "name": "python",
   "nbconvert_exporter": "python",
   "pygments_lexer": "ipython3",
   "version": "3.12.3"
  }
 },
 "nbformat": 4,
 "nbformat_minor": 1
}
