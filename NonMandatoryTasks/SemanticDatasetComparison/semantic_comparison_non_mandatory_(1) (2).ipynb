{
  "metadata": {
    "kernelspec": {
      "name": "python3",
      "display_name": "Python 3"
    },
    "language_info": {
      "name": "python",
      "version": "3.11.13",
      "mimetype": "text/x-python",
      "codemirror_mode": {
        "name": "ipython",
        "version": 3
      },
      "pygments_lexer": "ipython3",
      "nbconvert_exporter": "python",
      "file_extension": ".py"
    },
    "accelerator": "GPU",
    "colab": {
      "gpuType": "T4",
      "provenance": []
    },
    "kaggle": {
      "accelerator": "none",
      "dataSources": [
        {
          "sourceId": 13489108,
          "sourceType": "datasetVersion",
          "datasetId": 8564304
        }
      ],
      "dockerImageVersionId": 31153,
      "isInternetEnabled": true,
      "language": "python",
      "sourceType": "notebook",
      "isGpuEnabled": false
    }
  },
  "nbformat_minor": 0,
  "nbformat": 4,
  "cells": [
    {
      "cell_type": "code",
      "source": [
        "## research paper used  -> https://arxiv.org/pdf/2103.00020 ,https://arxiv.org/html/2406.03865v1 (used this to get an idea of semantic similarity)\n"
      ],
      "metadata": {
        "_cell_guid": "b1076dfc-b9ad-4769-8c92-a6c4dae69d19",
        "_uuid": "8f2839f25d086af736a60e9eeb907d3b93b6e0e5",
        "id": "ForV_NP5_2Yc"
      },
      "outputs": [],
      "execution_count": 1
    },
    {
      "cell_type": "markdown",
      "source": [
        "## CLIP"
      ],
      "metadata": {
        "id": "wbA30ecX_2Ye"
      }
    },
    {
      "cell_type": "code",
      "source": [
        "import requests\n",
        "import torch\n",
        "import torchvision\n",
        "from torchvision  import datasets,transforms\n",
        "from torchvision.transforms import ToTensor\n",
        "from PIL import Image\n",
        "from transformers import CLIPProcessor, CLIPModel\n",
        "\n",
        "model = CLIPModel.from_pretrained(\"openai/clip-vit-base-patch32\", dtype=torch.float16, attn_implementation=\"sdpa\")\n",
        "processor =CLIPProcessor.from_pretrained(\"openai/clip-vit-base-patch32\",use_fast=True)\n",
        "device = \"cuda\" if torch.cuda.is_available() else \"cpu\"\n",
        "model.to(device)"
      ],
      "metadata": {
        "colab": {
          "base_uri": "https://localhost:8080/"
        },
        "id": "GZPf9D-E_2Yf",
        "outputId": "7dada8b1-2d5a-44bb-948b-199e1b30ba9b",
        "trusted": true,
        "execution": {
          "iopub.status.busy": "2025-10-24T15:11:04.259531Z",
          "iopub.execute_input": "2025-10-24T15:11:04.259851Z",
          "iopub.status.idle": "2025-10-24T15:11:08.403159Z",
          "shell.execute_reply.started": "2025-10-24T15:11:04.259828Z",
          "shell.execute_reply": "2025-10-24T15:11:08.401801Z"
        }
      },
      "outputs": [
        {
          "output_type": "stream",
          "name": "stderr",
          "text": [
            "/usr/local/lib/python3.12/dist-packages/huggingface_hub/utils/_auth.py:94: UserWarning: \n",
            "The secret `HF_TOKEN` does not exist in your Colab secrets.\n",
            "To authenticate with the Hugging Face Hub, create a token in your settings tab (https://huggingface.co/settings/tokens), set it as secret in your Google Colab and restart your session.\n",
            "You will be able to reuse this secret in all of your notebooks.\n",
            "Please note that authentication is recommended but still optional to access public models or datasets.\n",
            "  warnings.warn(\n"
          ]
        },
        {
          "output_type": "execute_result",
          "data": {
            "text/plain": [
              "CLIPModel(\n",
              "  (text_model): CLIPTextTransformer(\n",
              "    (embeddings): CLIPTextEmbeddings(\n",
              "      (token_embedding): Embedding(49408, 512)\n",
              "      (position_embedding): Embedding(77, 512)\n",
              "    )\n",
              "    (encoder): CLIPEncoder(\n",
              "      (layers): ModuleList(\n",
              "        (0-11): 12 x CLIPEncoderLayer(\n",
              "          (self_attn): CLIPAttention(\n",
              "            (k_proj): Linear(in_features=512, out_features=512, bias=True)\n",
              "            (v_proj): Linear(in_features=512, out_features=512, bias=True)\n",
              "            (q_proj): Linear(in_features=512, out_features=512, bias=True)\n",
              "            (out_proj): Linear(in_features=512, out_features=512, bias=True)\n",
              "          )\n",
              "          (layer_norm1): LayerNorm((512,), eps=1e-05, elementwise_affine=True)\n",
              "          (mlp): CLIPMLP(\n",
              "            (activation_fn): QuickGELUActivation()\n",
              "            (fc1): Linear(in_features=512, out_features=2048, bias=True)\n",
              "            (fc2): Linear(in_features=2048, out_features=512, bias=True)\n",
              "          )\n",
              "          (layer_norm2): LayerNorm((512,), eps=1e-05, elementwise_affine=True)\n",
              "        )\n",
              "      )\n",
              "    )\n",
              "    (final_layer_norm): LayerNorm((512,), eps=1e-05, elementwise_affine=True)\n",
              "  )\n",
              "  (vision_model): CLIPVisionTransformer(\n",
              "    (embeddings): CLIPVisionEmbeddings(\n",
              "      (patch_embedding): Conv2d(3, 768, kernel_size=(32, 32), stride=(32, 32), bias=False)\n",
              "      (position_embedding): Embedding(50, 768)\n",
              "    )\n",
              "    (pre_layrnorm): LayerNorm((768,), eps=1e-05, elementwise_affine=True)\n",
              "    (encoder): CLIPEncoder(\n",
              "      (layers): ModuleList(\n",
              "        (0-11): 12 x CLIPEncoderLayer(\n",
              "          (self_attn): CLIPAttention(\n",
              "            (k_proj): Linear(in_features=768, out_features=768, bias=True)\n",
              "            (v_proj): Linear(in_features=768, out_features=768, bias=True)\n",
              "            (q_proj): Linear(in_features=768, out_features=768, bias=True)\n",
              "            (out_proj): Linear(in_features=768, out_features=768, bias=True)\n",
              "          )\n",
              "          (layer_norm1): LayerNorm((768,), eps=1e-05, elementwise_affine=True)\n",
              "          (mlp): CLIPMLP(\n",
              "            (activation_fn): QuickGELUActivation()\n",
              "            (fc1): Linear(in_features=768, out_features=3072, bias=True)\n",
              "            (fc2): Linear(in_features=3072, out_features=768, bias=True)\n",
              "          )\n",
              "          (layer_norm2): LayerNorm((768,), eps=1e-05, elementwise_affine=True)\n",
              "        )\n",
              "      )\n",
              "    )\n",
              "    (post_layernorm): LayerNorm((768,), eps=1e-05, elementwise_affine=True)\n",
              "  )\n",
              "  (visual_projection): Linear(in_features=768, out_features=512, bias=False)\n",
              "  (text_projection): Linear(in_features=512, out_features=512, bias=False)\n",
              ")"
            ]
          },
          "metadata": {},
          "execution_count": 1
        }
      ],
      "execution_count": 1
    },
    {
      "cell_type": "code",
      "source": [
        "import matplotlib.pyplot as plt"
      ],
      "metadata": {
        "id": "13wpaQ4eBYOO",
        "trusted": true,
        "execution": {
          "iopub.status.busy": "2025-10-24T14:52:56.735455Z",
          "iopub.status.idle": "2025-10-24T14:52:56.735765Z",
          "shell.execute_reply.started": "2025-10-24T14:52:56.735627Z",
          "shell.execute_reply": "2025-10-24T14:52:56.735641Z"
        }
      },
      "outputs": [],
      "execution_count": 3
    },
    {
      "cell_type": "markdown",
      "source": [
        "## Exp 1 (CIFAR SET)"
      ],
      "metadata": {
        "id": "dIVsFyTuHUX2"
      }
    },
    {
      "cell_type": "code",
      "source": [
        "\n",
        "train_dataset=torchvision.datasets.CIFAR10('data',train=True,download=True,target_transform=None,transform=None)\n"
      ],
      "metadata": {
        "id": "QE8o2kpW_2Yf"
      },
      "outputs": [],
      "execution_count": 4
    },
    {
      "cell_type": "code",
      "source": [
        "len(train_dataset)"
      ],
      "metadata": {
        "colab": {
          "base_uri": "https://localhost:8080/"
        },
        "id": "IxbX-LIe_7Y9",
        "outputId": "50e6c12c-67d2-4fbb-bd92-d359dec11fac"
      },
      "outputs": [
        {
          "output_type": "execute_result",
          "data": {
            "text/plain": [
              "50000"
            ]
          },
          "metadata": {},
          "execution_count": 5
        }
      ],
      "execution_count": 5
    },
    {
      "cell_type": "code",
      "source": [
        "classes=train_dataset.classes\n",
        "classes"
      ],
      "metadata": {
        "colab": {
          "base_uri": "https://localhost:8080/"
        },
        "id": "0QxBYMm5AyRb",
        "outputId": "4bbe6645-805f-46c7-9405-a019f1a7352c"
      },
      "outputs": [
        {
          "output_type": "execute_result",
          "data": {
            "text/plain": [
              "['airplane',\n",
              " 'automobile',\n",
              " 'bird',\n",
              " 'cat',\n",
              " 'deer',\n",
              " 'dog',\n",
              " 'frog',\n",
              " 'horse',\n",
              " 'ship',\n",
              " 'truck']"
            ]
          },
          "metadata": {},
          "execution_count": 6
        }
      ],
      "execution_count": 6
    },
    {
      "cell_type": "code",
      "source": [
        "train_dataset.class_to_idx"
      ],
      "metadata": {
        "colab": {
          "base_uri": "https://localhost:8080/"
        },
        "id": "SbCQfeWEBHFW",
        "outputId": "b90e0dd2-3726-44fe-ec87-69af32d1c750"
      },
      "outputs": [
        {
          "output_type": "execute_result",
          "data": {
            "text/plain": [
              "{'airplane': 0,\n",
              " 'automobile': 1,\n",
              " 'bird': 2,\n",
              " 'cat': 3,\n",
              " 'deer': 4,\n",
              " 'dog': 5,\n",
              " 'frog': 6,\n",
              " 'horse': 7,\n",
              " 'ship': 8,\n",
              " 'truck': 9}"
            ]
          },
          "metadata": {},
          "execution_count": 7
        }
      ],
      "execution_count": 7
    },
    {
      "cell_type": "code",
      "source": [
        "img,label_idx=train_dataset[2]\n",
        "label=classes[label_idx]\n"
      ],
      "metadata": {
        "id": "vvafUDjQAz0c"
      },
      "outputs": [],
      "execution_count": 8
    },
    {
      "cell_type": "code",
      "source": [
        "plt.title(label)\n",
        "plt.imshow(img)"
      ],
      "metadata": {
        "colab": {
          "base_uri": "https://localhost:8080/",
          "height": 470
        },
        "id": "5nWh5AvYBMMa",
        "outputId": "59377621-85a3-4681-c1e3-83f54bf14c01"
      },
      "outputs": [
        {
          "output_type": "execute_result",
          "data": {
            "text/plain": [
              "<matplotlib.image.AxesImage at 0x7e8a4d01d370>"
            ]
          },
          "metadata": {},
          "execution_count": 9
        },
        {
          "output_type": "display_data",
          "data": {
            "text/plain": [
              "<Figure size 640x480 with 1 Axes>"
            ],
            "image/png": "[encoded data removed]"
          },
          "metadata": {}
        }
      ],
      "execution_count": 9
    },
    {
      "cell_type": "code",
      "source": [
        "text_prompt = [f\"a photo of a {label}\" for label in classes]\n",
        "inputs = processor(\n",
        "    text=text_prompt,\n",
        "    images=[img],\n",
        "    return_tensors=\"pt\",\n",
        "    padding=True\n",
        ")\n",
        "\n"
      ],
      "metadata": {
        "id": "1S7Nw9atBcRv"
      },
      "outputs": [],
      "execution_count": 10
    },
    {
      "cell_type": "markdown",
      "source": [
        "### Similarity score between cat and dog"
      ],
      "metadata": {
        "id": "xkBQjIR6KHpr"
      }
    },
    {
      "cell_type": "code",
      "source": [
        "dataset_a_images=[] # dog\n",
        "dataset_b_images=[] # cat\n",
        "dataset_c_images=[] #truck\n",
        "dataset_d_images=[] #ship\n",
        "\n",
        "for (img,label) in train_dataset:\n",
        "  if label==5:\n",
        "    dataset_a_images.append(img)\n",
        "  elif label==3:\n",
        "    dataset_b_images.append(img)\n",
        "  elif label==9:\n",
        "    dataset_c_images.append(img)\n",
        "  elif label==8:\n",
        "    dataset_d_images.append(img)\n"
      ],
      "metadata": {
        "id": "0mEEATP3CURm"
      },
      "outputs": [],
      "execution_count": 11
    },
    {
      "cell_type": "code",
      "source": [
        "image_transform = transforms.Compose([\n",
        "    transforms.Resize((64,64)),\n",
        "    transforms.ToTensor(),\n",
        "\n",
        "])\n",
        "\n"
      ],
      "metadata": {
        "id": "JPwe_0fL1Dfh"
      },
      "execution_count": 12,
      "outputs": []
    },
    {
      "cell_type": "code",
      "source": [
        "def custom_collate_pil(batch):\n",
        "  images = []\n",
        "  for item in batch:\n",
        "     img=item\n",
        "     images.append(img)\n",
        "\n",
        "\n",
        "  return images"
      ],
      "metadata": {
        "id": "Vj1p8P5E8zz9"
      },
      "execution_count": 2,
      "outputs": []
    },
    {
      "cell_type": "code",
      "source": [
        "from torch.utils.data import Dataset, DataLoader\n",
        "\n",
        "class ImageDataset(Dataset):\n",
        "  def __init__(self,images):\n",
        "    self.images=images\n",
        "\n",
        "  def __len__(self):\n",
        "    return len(self.images)\n",
        "\n",
        "  def __getitem__(self,idx):\n",
        "    return self.images[idx]\n",
        "\n",
        "dog_dataset=ImageDataset(dataset_a_images)\n",
        "cat_dataset=ImageDataset(dataset_b_images)\n",
        "truck_dataset=ImageDataset(dataset_c_images)\n",
        "ship_dataset=ImageDataset(dataset_d_images)\n",
        "\n",
        "dog_loader = DataLoader(dog_dataset, batch_size=32, shuffle=False,collate_fn=custom_collate_pil)\n",
        "cat_loader = DataLoader(cat_dataset, batch_size=32, shuffle=False,collate_fn=custom_collate_pil)\n",
        "truck_loader = DataLoader(truck_dataset, batch_size=32, shuffle=False, collate_fn=custom_collate_pil)\n",
        "ship_loader = DataLoader(ship_dataset, batch_size=32, shuffle=False, collate_fn=custom_collate_pil)"
      ],
      "metadata": {
        "id": "enXs-g6mLh2S",
        "trusted": true,
        "execution": {
          "iopub.status.busy": "2025-10-24T14:52:56.737043Z",
          "iopub.status.idle": "2025-10-24T14:52:56.737467Z",
          "shell.execute_reply.started": "2025-10-24T14:52:56.737249Z",
          "shell.execute_reply": "2025-10-24T14:52:56.737266Z"
        }
      },
      "outputs": [],
      "execution_count": 14
    },
    {
      "cell_type": "code",
      "source": [
        "def extract_embeddings(dataloader,model,processor,device):\n",
        "  all_embeddings=[]\n",
        "  model.eval()\n",
        "\n",
        "  with torch.no_grad():\n",
        "    for images_batch in dataloader:\n",
        "\n",
        "            inputs = processor(\n",
        "                images=images_batch,\n",
        "                return_tensors=\"pt\"\n",
        "            ).to(device)\n",
        "\n",
        "\n",
        "            image_features = model.get_image_features(**inputs)\n",
        "\n",
        "\n",
        "            all_embeddings.append(image_features.cpu())\n",
        "\n",
        "    return torch.cat(all_embeddings, dim=0)\n"
      ],
      "metadata": {
        "id": "BxFhKlrYKsux"
      },
      "outputs": [],
      "execution_count": 15
    },
    {
      "cell_type": "code",
      "source": [
        "dog_embeddings=extract_embeddings(dog_loader,model,processor,device)\n",
        "cat_embeddings=extract_embeddings(cat_loader,model,processor,device)\n",
        "truck_embeddings=extract_embeddings(truck_loader,model,processor,device)\n",
        "ship_embeddings=extract_embeddings(ship_loader,model,processor,device)"
      ],
      "metadata": {
        "id": "GCufswTrUrO5"
      },
      "outputs": [],
      "execution_count": 16
    },
    {
      "cell_type": "markdown",
      "source": [
        "### Similarity scores  \n"
      ],
      "metadata": {
        "id": "W35PfTHQU8N8"
      }
    },
    {
      "cell_type": "markdown",
      "source": [
        "#### CAT VS DOG"
      ],
      "metadata": {
        "id": "cQnF-3no7glP"
      }
    },
    {
      "cell_type": "markdown",
      "source": [
        "#### Centroid Cosine similarity"
      ],
      "metadata": {
        "id": "BtOqha5mVMZV"
      }
    },
    {
      "cell_type": "code",
      "source": [
        "import torch.nn.functional as F\n",
        "dog_embeddings_cpy=dog_embeddings\n",
        "cat_embeddings_cpy=cat_embeddings\n",
        "dog_mean=torch.mean(dog_embeddings,dim=0)  # shape [512]\n",
        "cat_mean=torch.mean(cat_embeddings,dim=0)  # shape [512]\n",
        "\n",
        "cosine_similarity_score=F.cosine_similarity(    # we unsqueze because 2d vector is exprected so we get  -> [1,512]\n",
        "    dog_mean.unsqueeze(0),\n",
        "    cat_mean.unsqueeze(0),\n",
        ")\n",
        "print(f\"\\nCentroid Cosine Similarity (Dog vs. Cat): {cosine_similarity_score.item():.4f}\")"
      ],
      "metadata": {
        "id": "1ebxrQt4U6nM",
        "colab": {
          "base_uri": "https://localhost:8080/"
        },
        "outputId": "21362e8f-c0a0-44d3-b7db-4c19e4acc4af"
      },
      "outputs": [
        {
          "output_type": "stream",
          "name": "stdout",
          "text": [
            "\n",
            "Centroid Cosine Similarity (Dog vs. Cat): 0.9785\n"
          ]
        }
      ],
      "execution_count": 17
    },
    {
      "cell_type": "markdown",
      "source": [
        "#### Fréchet Embedding Distance"
      ],
      "metadata": {
        "id": "_VjRAhU4a-S2"
      }
    },
    {
      "cell_type": "code",
      "source": [
        "import numpy as np\n",
        "from scipy.linalg import sqrtm"
      ],
      "metadata": {
        "id": "tCaGBQpGbCPr",
        "trusted": true,
        "execution": {
          "iopub.status.busy": "2025-10-24T15:13:56.191940Z",
          "iopub.execute_input": "2025-10-24T15:13:56.192357Z",
          "iopub.status.idle": "2025-10-24T15:13:56.201720Z",
          "shell.execute_reply.started": "2025-10-24T15:13:56.192324Z",
          "shell.execute_reply": "2025-10-24T15:13:56.197115Z"
        }
      },
      "outputs": [],
      "execution_count": 14
    },
    {
      "cell_type": "code",
      "source": [
        "def calculate_fed(embedding1,embedding2):\n",
        "  embedding1 = embedding1.cpu().numpy()\n",
        "  embedding2 = embedding2.cpu().numpy()\n",
        "  mean_1,cov_1=np.mean(embedding1,axis=1),np.cov(embedding1)\n",
        "  mean_2,cov_2=np.mean(embedding2,axis=1),np.cov(embedding2)\n",
        "\n",
        "  squared_diff_mean=np.sum((mean_1-mean_2)**2)\n",
        "  eps = 1e-6\n",
        "  covmean, _ = sqrtm(cov_1.dot(cov_2) + eps * np.eye(cov_1.shape[0]), disp=False)\n",
        "\n",
        "    # Matrix square root might return complex numbers, take the real part\n",
        "  if np.iscomplexobj(covmean):\n",
        "        covmean = covmean.real\n",
        "\n",
        "  fed=squared_diff_mean+np.trace(cov_1+cov_2-2.0*covmean)\n",
        "  fed=max(0,fed)\n",
        "  return fed"
      ],
      "metadata": {
        "id": "Hyf-lluy5f97",
        "trusted": true,
        "execution": {
          "iopub.status.busy": "2025-10-24T15:14:00.277995Z",
          "iopub.execute_input": "2025-10-24T15:14:00.278394Z",
          "iopub.status.idle": "2025-10-24T15:14:00.285039Z",
          "shell.execute_reply.started": "2025-10-24T15:14:00.278360Z",
          "shell.execute_reply": "2025-10-24T15:14:00.283783Z"
        }
      },
      "outputs": [],
      "execution_count": 3
    },
    {
      "cell_type": "code",
      "source": [
        "fed_score = calculate_fed(cat_embeddings_cpy, dog_embeddings_cpy)\n",
        "print(f\"Fréchet Embedding Distance: {fed_score:.4f}\")"
      ],
      "metadata": {
        "id": "zVpvFu9_6ld-",
        "colab": {
          "base_uri": "https://localhost:8080/"
        },
        "outputId": "c96a8f5f-8229-4441-9e0b-8520f2a0108d"
      },
      "outputs": [
        {
          "output_type": "stream",
          "name": "stderr",
          "text": [
            "/tmp/ipython-input-1256775283.py:9: DeprecationWarning: The `disp` argument is deprecated and will be removed in SciPy 1.18.0.\n",
            "  covmean, _ = sqrtm(cov_1.dot(cov_2) + eps * np.eye(cov_1.shape[0]), disp=False)\n"
          ]
        },
        {
          "output_type": "stream",
          "name": "stdout",
          "text": [
            "Fréchet Embedding Distance: 347.6880\n"
          ]
        }
      ],
      "execution_count": 20
    },
    {
      "cell_type": "markdown",
      "source": [
        "#### DOG VS TRUCK"
      ],
      "metadata": {
        "id": "1lNv6MSs7jMa"
      }
    },
    {
      "cell_type": "markdown",
      "source": [
        "#### Centroid Cosine similarity"
      ],
      "metadata": {
        "id": "ZWVKdSqu7mi4"
      }
    },
    {
      "cell_type": "code",
      "source": [
        "import torch.nn.functional as F\n",
        "\n",
        "dog_mean=torch.mean(dog_embeddings,dim=0)  # shape [512]\n",
        "truck_mean=torch.mean(truck_embeddings,dim=0)  # shape [512]\n",
        "\n",
        "cosine_similarity_score=F.cosine_similarity(    # we unsqueze because 2d vector is exprected so we get  -> [1,512]\n",
        "    dog_mean.unsqueeze(0),\n",
        "    truck_mean.unsqueeze(0),\n",
        ")\n",
        "print(f\"\\nCentroid Cosine Similarity (Dog vs. Truck): {cosine_similarity_score.item():.4f}\")"
      ],
      "metadata": {
        "id": "jb6F0FR27kkH",
        "colab": {
          "base_uri": "https://localhost:8080/"
        },
        "outputId": "fd1b91b7-8567-4c05-b4fe-f55a7a522962"
      },
      "outputs": [
        {
          "output_type": "stream",
          "name": "stdout",
          "text": [
            "\n",
            "Centroid Cosine Similarity (Dog vs. Truck): 0.8545\n"
          ]
        }
      ],
      "execution_count": 21
    },
    {
      "cell_type": "markdown",
      "source": [
        "#### Frechet embedding distance"
      ],
      "metadata": {
        "id": "ewjB1lb77o74"
      }
    },
    {
      "cell_type": "code",
      "source": [
        "fed_score = calculate_fed(truck_embeddings, dog_embeddings)\n",
        "print(f\"Fréchet Embedding Distance: {fed_score:.4f}\")"
      ],
      "metadata": {
        "id": "zCicSTyg7rMK",
        "colab": {
          "base_uri": "https://localhost:8080/"
        },
        "outputId": "276b49a4-a205-45c2-9910-ac61bb934633"
      },
      "outputs": [
        {
          "output_type": "stream",
          "name": "stderr",
          "text": [
            "/tmp/ipython-input-1256775283.py:9: DeprecationWarning: The `disp` argument is deprecated and will be removed in SciPy 1.18.0.\n",
            "  covmean, _ = sqrtm(cov_1.dot(cov_2) + eps * np.eye(cov_1.shape[0]), disp=False)\n"
          ]
        },
        {
          "output_type": "stream",
          "name": "stdout",
          "text": [
            "Fréchet Embedding Distance: 370.8711\n"
          ]
        }
      ],
      "execution_count": 22
    },
    {
      "cell_type": "markdown",
      "source": [
        "#### TRUCK VS SHIP"
      ],
      "metadata": {
        "id": "Y773BpjG8HOL"
      }
    },
    {
      "cell_type": "markdown",
      "source": [
        "#### Centroid cosine similarity"
      ],
      "metadata": {
        "id": "tng8zHo58Jkz"
      }
    },
    {
      "cell_type": "code",
      "source": [
        "import torch.nn.functional as F\n",
        "\n",
        "ship_mean=torch.mean(ship_embeddings,dim=0)  # shape [512]\n",
        "truck_mean=torch.mean(truck_embeddings,dim=0)  # shape [512]\n",
        "\n",
        "cosine_similarity_score=F.cosine_similarity(    # we unsqueze because 2d vector is exprected so we get  -> [1,512]\n",
        "    ship_mean.unsqueeze(0),\n",
        "    truck_mean.unsqueeze(0),\n",
        ")\n",
        "print(f\"\\nCentroid Cosine Similarity (Ship vs. Truck): {cosine_similarity_score.item():.4f}\")"
      ],
      "metadata": {
        "id": "VaRrmVsR8Ipc",
        "colab": {
          "base_uri": "https://localhost:8080/"
        },
        "outputId": "36d229fd-136a-4eef-d485-cdea0b9dff89"
      },
      "outputs": [
        {
          "output_type": "stream",
          "name": "stdout",
          "text": [
            "\n",
            "Centroid Cosine Similarity (Ship vs. Truck): 0.9106\n"
          ]
        }
      ],
      "execution_count": 23
    },
    {
      "cell_type": "markdown",
      "source": [
        "#### Frechet embedding distance"
      ],
      "metadata": {
        "id": "H5ER1N2N8L5y"
      }
    },
    {
      "cell_type": "code",
      "source": [
        "fed_score = calculate_fed(truck_embeddings, ship_embeddings)\n",
        "print(f\"Fréchet Embedding Distance: {fed_score:.4f}\")"
      ],
      "metadata": {
        "id": "q874ENXI8N4O",
        "colab": {
          "base_uri": "https://localhost:8080/"
        },
        "outputId": "93a39aab-66f5-490a-de81-914a12538941"
      },
      "outputs": [
        {
          "output_type": "stream",
          "name": "stderr",
          "text": [
            "/tmp/ipython-input-1256775283.py:9: DeprecationWarning: The `disp` argument is deprecated and will be removed in SciPy 1.18.0.\n",
            "  covmean, _ = sqrtm(cov_1.dot(cov_2) + eps * np.eye(cov_1.shape[0]), disp=False)\n"
          ]
        },
        {
          "output_type": "stream",
          "name": "stdout",
          "text": [
            "Fréchet Embedding Distance: 379.1478\n"
          ]
        }
      ],
      "execution_count": 24
    },
    {
      "cell_type": "markdown",
      "source": [
        "## EXP_2 (CIFAKE)"
      ],
      "metadata": {
        "id": "0HQ9z5u098BN"
      }
    },
    {
      "cell_type": "code",
      "source": [
        "import zipfile\n",
        "import os\n",
        "\n",
        "\n",
        "zip_file_path = '/content/archive (2).zip'\n",
        "\n",
        "\n",
        "extract_directory = '/content/extracted_data'\n",
        "\n",
        "os.makedirs(extract_directory, exist_ok=True)\n",
        "\n",
        "\n",
        "try:\n",
        "    with zipfile.ZipFile(zip_file_path, 'r') as zip_ref:\n",
        "        zip_ref.extractall(extract_directory)\n",
        "    print(f\"Successfully extracted '{os.path.basename(zip_file_path)}' to '{extract_directory}'\")\n",
        "except FileNotFoundError:\n",
        "    print(f\"Error: Zip file not found at '{zip_file_path}'. Please check the path.\")\n",
        "except zipfile.BadZipFile:\n",
        "    print(f\"Error: The file at '{zip_file_path}' is not a valid zip file or is corrupted.\")"
      ],
      "metadata": {
        "colab": {
          "base_uri": "https://localhost:8080/"
        },
        "id": "PCD3P81FLQT4",
        "outputId": "445518c7-9ab9-47f7-8347-a054772cd064"
      },
      "execution_count": 4,
      "outputs": [
        {
          "output_type": "stream",
          "name": "stdout",
          "text": [
            "Successfully extracted 'archive (2).zip' to '/content/extracted_data'\n"
          ]
        }
      ]
    },
    {
      "cell_type": "code",
      "source": [
        "import os\n",
        "\n",
        "test_fake_path=\"/content/extracted_data/test/FAKE\"\n",
        "test_real_path=\"/content/extracted_data/test/REAL\"\n",
        "train_fake_path=\"/content/extracted_data/train/FAKE\"\n",
        "train_real_path=\"/content/extracted_data/train/REAL\"\n",
        "test_fake_imgs=[f\"{test_fake_path}/{filename}\" for filename in os.listdir(test_fake_path)]\n",
        "test_real_imgs=[f\"{test_real_path}/{filename}\"for filename in os.listdir(test_real_path)]\n",
        "train_fake_imgs=[f\"{train_fake_path}/{filename}\" for filename in os.listdir(train_fake_path)]\n",
        "train_real_imgs=[f\"{train_real_path}/{filename}\"for filename in os.listdir(train_real_path)]\n"
      ],
      "metadata": {
        "id": "U0KN20a59-RJ",
        "trusted": true,
        "execution": {
          "iopub.status.busy": "2025-10-24T14:52:18.368243Z",
          "iopub.execute_input": "2025-10-24T14:52:18.368516Z",
          "iopub.status.idle": "2025-10-24T14:52:18.596927Z",
          "shell.execute_reply.started": "2025-10-24T14:52:18.368495Z",
          "shell.execute_reply": "2025-10-24T14:52:18.595829Z"
        }
      },
      "outputs": [],
      "execution_count": 4
    },
    {
      "cell_type": "code",
      "source": [
        "import torch\n",
        "from torch.utils.data import Dataset, DataLoader\n",
        "import requests\n",
        "import torchvision\n",
        "from torchvision  import datasets,transforms\n",
        "from torchvision.transforms import ToTensor\n",
        "from PIL import Image\n",
        "\n",
        "class ImageDataset(Dataset):\n",
        "  def __init__(self,images):\n",
        "    self.images=images\n",
        "\n",
        "  def __len__(self):\n",
        "    return len(self.images)\n",
        "\n",
        "  def __getitem__(self,idx):\n",
        "    return self.images[idx]\n"
      ],
      "metadata": {
        "trusted": true,
        "execution": {
          "iopub.status.busy": "2025-10-24T14:54:05.364145Z",
          "iopub.execute_input": "2025-10-24T14:54:05.365162Z",
          "iopub.status.idle": "2025-10-24T14:54:05.392367Z",
          "shell.execute_reply.started": "2025-10-24T14:54:05.365070Z",
          "shell.execute_reply": "2025-10-24T14:54:05.391089Z"
        },
        "id": "rhL4FNW4zBt-"
      },
      "outputs": [],
      "execution_count": 5
    },
    {
      "cell_type": "code",
      "source": [
        "train_fake_dataset=ImageDataset(train_fake_imgs)\n",
        "train_real_dataset=ImageDataset(train_real_imgs)\n",
        "test_fake_dataset=ImageDataset(test_fake_imgs)\n",
        "test_real_dataset=ImageDataset(test_real_imgs)"
      ],
      "metadata": {
        "trusted": true,
        "id": "pBP8UlrCzBuE"
      },
      "outputs": [],
      "execution_count": 6
    },
    {
      "cell_type": "code",
      "source": [
        "\n",
        "train_fake_loader = DataLoader(train_fake_dataset, batch_size=32, shuffle=False,collate_fn=custom_collate_pil)\n",
        "train_real_loader = DataLoader(train_real_dataset, batch_size=32, shuffle=False,collate_fn=custom_collate_pil)\n",
        "test_fake_loader = DataLoader(test_fake_dataset, batch_size=32, shuffle=False,collate_fn=custom_collate_pil)\n",
        "test_real_loader = DataLoader(test_real_dataset, batch_size=32, shuffle=False,collate_fn=custom_collate_pil)"
      ],
      "metadata": {
        "trusted": true,
        "id": "FUpEzhb-zBuF"
      },
      "outputs": [],
      "execution_count": 7
    },
    {
      "cell_type": "code",
      "source": [
        "def extract_embeddings(dataloader,model,processor,device):\n",
        "  all_embeddings=[]\n",
        "  model.eval()\n",
        "\n",
        "  with torch.no_grad():\n",
        "    for images_batch in dataloader:\n",
        "\n",
        "            inputs = processor(\n",
        "                images=images_batch,\n",
        "                return_tensors=\"pt\"\n",
        "            ).to(device)\n",
        "\n",
        "\n",
        "            image_features = model.get_image_features(**inputs)\n",
        "\n",
        "\n",
        "            all_embeddings.append(image_features.cpu())\n",
        "\n",
        "    # Concatenate all batches into one big tensor\n",
        "    # The shape will be [num_images, embedding_dim] (e.g., [5000, 512])\n",
        "    return torch.cat(all_embeddings, dim=0)\n"
      ],
      "metadata": {
        "trusted": true,
        "execution": {
          "iopub.status.busy": "2025-10-24T15:10:57.701710Z",
          "iopub.execute_input": "2025-10-24T15:10:57.702710Z",
          "iopub.status.idle": "2025-10-24T15:10:57.708103Z",
          "shell.execute_reply.started": "2025-10-24T15:10:57.702670Z",
          "shell.execute_reply": "2025-10-24T15:10:57.707102Z"
        },
        "id": "B_xjn9BUzBuF"
      },
      "outputs": [],
      "execution_count": 8
    },
    {
      "cell_type": "code",
      "source": [
        "train_fake_embeddings=extract_embeddings(train_fake_loader,model,processor,device)\n",
        "test_fake_embeddings=extract_embeddings(test_fake_loader,model,processor,device)\n",
        "train_real_embeddings=extract_embeddings(train_real_loader,model,processor,device)\n",
        "test_real_embeddings=extract_embeddings(test_real_loader,model,processor,device)"
      ],
      "metadata": {
        "trusted": true,
        "id": "bk-_FWEKzBuF"
      },
      "outputs": [],
      "execution_count": 9
    },
    {
      "cell_type": "markdown",
      "source": [
        "## Similarity score"
      ],
      "metadata": {
        "id": "pOjDGVKpzBuF"
      }
    },
    {
      "cell_type": "markdown",
      "source": [
        "#### TRAIN ->  REAL VS FAKE"
      ],
      "metadata": {
        "id": "3G2ySeAyzBuF"
      }
    },
    {
      "cell_type": "markdown",
      "source": [
        "#### Centroid Cosine similarity"
      ],
      "metadata": {
        "id": "kpL1LL2xzBuG"
      }
    },
    {
      "cell_type": "code",
      "source": [
        "import torch.nn.functional as F\n",
        "\n",
        "train_real_mean=torch.mean(train_real_embeddings,dim=0)\n",
        "train_fake_mean=torch.mean(train_fake_embeddings,dim=0)\n",
        "\n",
        "cosine_similarity_score=F.cosine_similarity(\n",
        "    train_real_mean.unsqueeze(0),\n",
        "    train_fake_mean.unsqueeze(0),\n",
        ")\n",
        "print(f\"\\nCentroid Cosine Similarity: {cosine_similarity_score.item():.4f}\")"
      ],
      "metadata": {
        "trusted": true,
        "colab": {
          "base_uri": "https://localhost:8080/"
        },
        "id": "GEz6VtCYzBuG",
        "outputId": "3616c820-b1ee-4c71-8028-c9f5c6446c08"
      },
      "outputs": [
        {
          "output_type": "stream",
          "name": "stdout",
          "text": [
            "\n",
            "Centroid Cosine Similarity: 0.9912\n"
          ]
        }
      ],
      "execution_count": 18
    },
    {
      "cell_type": "markdown",
      "source": [
        "#### Fréchet Embedding Distance"
      ],
      "metadata": {
        "id": "ciO90R1ZzBuG"
      }
    },
    {
      "cell_type": "code",
      "source": [
        "import numpy as np"
      ],
      "metadata": {
        "id": "pDOiVhxYQgDI"
      },
      "execution_count": 12,
      "outputs": []
    },
    {
      "cell_type": "code",
      "source": [
        "len(train_real_embeddings)"
      ],
      "metadata": {
        "colab": {
          "base_uri": "https://localhost:8080/"
        },
        "id": "A7OmNMx-RVrP",
        "outputId": "e9af5623-53c9-45f4-a4bc-834a5a43ad13"
      },
      "execution_count": 11,
      "outputs": [
        {
          "output_type": "execute_result",
          "data": {
            "text/plain": [
              "50000"
            ]
          },
          "metadata": {},
          "execution_count": 11
        }
      ]
    },
    {
      "cell_type": "code",
      "source": [
        "fed_score = calculate_fed(train_real_embeddings[:2000], train_fake_embeddings[:2000])\n",
        "print(f\"Fréchet Embedding Distance: {fed_score:.4f}\")"
      ],
      "metadata": {
        "trusted": true,
        "colab": {
          "base_uri": "https://localhost:8080/"
        },
        "id": "k0gH_bdVzBuG",
        "outputId": "271b0373-b3da-4288-ea42-2139c820bdb7"
      },
      "outputs": [
        {
          "output_type": "stream",
          "name": "stderr",
          "text": [
            "/tmp/ipython-input-1256775283.py:9: DeprecationWarning: The `disp` argument is deprecated and will be removed in SciPy 1.18.0.\n",
            "  covmean, _ = sqrtm(cov_1.dot(cov_2) + eps * np.eye(cov_1.shape[0]), disp=False)\n"
          ]
        },
        {
          "output_type": "stream",
          "name": "stdout",
          "text": [
            "Fréchet Embedding Distance: 170.8972\n"
          ]
        }
      ],
      "execution_count": 15
    },
    {
      "cell_type": "markdown",
      "source": [
        "#### TEST -> REAL VS FAKE"
      ],
      "metadata": {
        "id": "3_ZiFzTMzBuG"
      }
    },
    {
      "cell_type": "markdown",
      "source": [
        "#### Centroid Cosine similarity"
      ],
      "metadata": {
        "id": "HxNbHcqizBuH"
      }
    },
    {
      "cell_type": "code",
      "source": [
        "import torch.nn.functional as F\n",
        "\n",
        "test_fake_mean=torch.mean(test_fake_embeddings,dim=0)\n",
        "test_real_mean=torch.mean(test_real_embeddings,dim=0)\n",
        "\n",
        "cosine_similarity_score=F.cosine_similarity(\n",
        "    test_real_mean.unsqueeze(0),\n",
        "    test_fake_mean.unsqueeze(0),\n",
        ")\n",
        "print(f\"\\nCentroid Cosine Similarity : {cosine_similarity_score.item():.4f}\")"
      ],
      "metadata": {
        "trusted": true,
        "colab": {
          "base_uri": "https://localhost:8080/"
        },
        "id": "5Ap4niqDzBuH",
        "outputId": "10b53f29-f864-40bc-efe6-a97e0f025d0c"
      },
      "outputs": [
        {
          "output_type": "stream",
          "name": "stdout",
          "text": [
            "\n",
            "Centroid Cosine Similarity : 0.9912\n"
          ]
        }
      ],
      "execution_count": 10
    },
    {
      "cell_type": "markdown",
      "source": [
        "#### Fréchet Embedding Distance"
      ],
      "metadata": {
        "id": "m2AID8bSzBuH"
      }
    },
    {
      "cell_type": "code",
      "source": [
        "fed_score = calculate_fed(test_real_embeddings[:2000], test_fake_embeddings[:2000])\n",
        "print(f\"Fréchet Embedding Distance: {fed_score:.4f}\")"
      ],
      "metadata": {
        "colab": {
          "base_uri": "https://localhost:8080/"
        },
        "id": "lMu91Z4jTBkm",
        "outputId": "d2908028-1163-4e61-c3ca-067e140c8ea6"
      },
      "execution_count": 17,
      "outputs": [
        {
          "output_type": "stream",
          "name": "stderr",
          "text": [
            "/tmp/ipython-input-1256775283.py:9: DeprecationWarning: The `disp` argument is deprecated and will be removed in SciPy 1.18.0.\n",
            "  covmean, _ = sqrtm(cov_1.dot(cov_2) + eps * np.eye(cov_1.shape[0]), disp=False)\n"
          ]
        },
        {
          "output_type": "stream",
          "name": "stdout",
          "text": [
            "Fréchet Embedding Distance: 169.3946\n"
          ]
        }
      ]
    },
    {
      "cell_type": "code",
      "source": [],
      "metadata": {
        "id": "KgkTfGSpTm33"
      },
      "execution_count": null,
      "outputs": []
    }
  ]
}